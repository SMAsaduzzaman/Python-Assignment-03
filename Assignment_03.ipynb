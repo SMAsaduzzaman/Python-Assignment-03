{
  "cells": [
    {
      "cell_type": "markdown",
      "metadata": {
        "id": "view-in-github",
        "colab_type": "text"
      },
      "source": [
        "<a href=\"https://colab.research.google.com/github/SMAsaduzzaman/Python-Assignment-03/blob/main/Assignment_03.ipynb\" target=\"_parent\"><img src=\"https://colab.research.google.com/assets/colab-badge.svg\" alt=\"Open In Colab\"/></a>"
      ]
    },
    {
      "cell_type": "markdown",
      "id": "4a0723d1",
      "metadata": {
        "id": "4a0723d1"
      },
      "source": [
        "<h1 align=center style=\"color: navy;\"> <b> Title:</b> Python Assignment 03 </h1>\n",
        "<h1 align=center style=\"color: navy;\"> <b> Course Instructor:</b> Farhana Afrin Duty </h1>\n",
        "<h2 align=center style=\"color: navy;\"> <b> Name:</b> S M Asaduzzaman </h2>\n",
        "<h2 align=center style=\"color: navy;\"> <b> Roll:</b> 20229017 </h2>"
      ]
    },
    {
      "cell_type": "code",
      "execution_count": 1,
      "id": "a3b0407c",
      "metadata": {
        "id": "a3b0407c"
      },
      "outputs": [],
      "source": [
        "#importing the impartant library\n",
        "\n",
        "import pandas as pd \n",
        "import numpy as np\n",
        "import matplotlib.pyplot as plt\n",
        "import seaborn as sns"
      ]
    },
    {
      "cell_type": "markdown",
      "id": "61ed2264",
      "metadata": {
        "id": "61ed2264"
      },
      "source": [
        "# Problem 01: Write a Python program to count the number of characters (character frequency) in a string."
      ]
    },
    {
      "cell_type": "code",
      "execution_count": 2,
      "id": "b650d96c",
      "metadata": {
        "id": "b650d96c"
      },
      "outputs": [],
      "source": [
        "#importing the defaultfict library for creating a default dictionary\n",
        "from collections import defaultdict\n",
        "#creating a function for counting the charactes in a sting\n",
        "def count(data: str):\n",
        "    chars = defaultdict(int)\n",
        "    for char in data:\n",
        "        chars[char]+=1\n",
        "    #sorting the dictionary Descending wise for item\n",
        "    chars=dict(sorted(chars.items(),key=lambda item: item[1],reverse=True))  \n",
        "    return chars"
      ]
    },
    {
      "cell_type": "code",
      "execution_count": 3,
      "id": "8565cad3",
      "metadata": {
        "colab": {
          "base_uri": "https://localhost:8080/"
        },
        "id": "8565cad3",
        "outputId": "ee54207b-449c-4cc9-8393-9258035571c3"
      },
      "outputs": [
        {
          "output_type": "stream",
          "name": "stdout",
          "text": [
            "{'o': 3, 'g': 2, 'l': 1, 'e': 1, '.': 1, 'c': 1, 'm': 1}\n"
          ]
        }
      ],
      "source": [
        "chars=count('google.com')\n",
        "print(chars)"
      ]
    },
    {
      "cell_type": "markdown",
      "id": "2ea29bf1",
      "metadata": {
        "id": "2ea29bf1"
      },
      "source": [
        "# Problem02: Write a Python program to check if a given key already exists in a dictionary."
      ]
    },
    {
      "cell_type": "code",
      "execution_count": 4,
      "id": "171a498e",
      "metadata": {
        "id": "171a498e"
      },
      "outputs": [],
      "source": [
        "#given dictionary\n",
        "given_dict={'o': 3, 'g': 2, 'l': 1, 'e': 1, '.': 1, 'c': 1, 'm': 1}\n",
        "#custom function for checking dictionary\n",
        "def check_key():\n",
        "    key=input(\"Type your Key: \")\n",
        "    if key in given_dict:\n",
        "        print(\"Your typed key is existed in the dictionary\")\n",
        "    else:\n",
        "        print(\"Your typed key is not existed in the dictionary\")"
      ]
    },
    {
      "cell_type": "code",
      "execution_count": 5,
      "id": "560e109a",
      "metadata": {
        "colab": {
          "base_uri": "https://localhost:8080/"
        },
        "id": "560e109a",
        "outputId": "1b88b0db-828e-4a5a-e481-66a176dcac15"
      },
      "outputs": [
        {
          "output_type": "stream",
          "name": "stdout",
          "text": [
            "Type your Key: e\n",
            "Your typed key is existed in the dictionary\n"
          ]
        }
      ],
      "source": [
        "#taking user input as 'e'\n",
        "check_key()"
      ]
    },
    {
      "cell_type": "code",
      "execution_count": 6,
      "id": "222e7b8f",
      "metadata": {
        "colab": {
          "base_uri": "https://localhost:8080/"
        },
        "id": "222e7b8f",
        "outputId": "73f7bc8f-efaa-4c52-af9c-c599ba2229f9"
      },
      "outputs": [
        {
          "output_type": "stream",
          "name": "stdout",
          "text": [
            "Type your Key: d\n",
            "Your typed key is not existed in the dictionary\n"
          ]
        }
      ],
      "source": [
        "#taking user input as 'd'\n",
        "check_key()"
      ]
    },
    {
      "cell_type": "markdown",
      "id": "5d889ef8",
      "metadata": {
        "id": "5d889ef8"
      },
      "source": [
        "# Problem 03: Write a Python program that accepts a sequence of comma-separated numbers fromtheuser and generates a list and a tuple of those numbers. "
      ]
    },
    {
      "cell_type": "code",
      "execution_count": 7,
      "id": "da67440d",
      "metadata": {
        "id": "da67440d"
      },
      "outputs": [],
      "source": [
        "#Custom function for tuple create from a sting\n",
        "def create_list_tuple(text):\n",
        "    separators = ','\n",
        "    list_A = []\n",
        "    tuple_A = ()\n",
        "    num_str = ''\n",
        "    for i in text:\n",
        "        if i != separators:\n",
        "            num_str += i\n",
        "        else:\n",
        "            num=num_str.strip()\n",
        "            print(num)\n",
        "            list_A.append(num)\n",
        "            tuple_A += (num,)\n",
        "            num_str = ''\n",
        "    if num_str:\n",
        "        num=num_str.strip()\n",
        "        list_A.append(num)\n",
        "        tuple_A += (num,)\n",
        "    print(f\"List: {list_A}\\nTuple: {tuple_A}\")"
      ]
    },
    {
      "cell_type": "code",
      "execution_count": 8,
      "id": "eaa688d3",
      "metadata": {
        "colab": {
          "base_uri": "https://localhost:8080/"
        },
        "id": "eaa688d3",
        "outputId": "e84f0e7d-4f42-4fa5-cde7-58fd52f8da2e"
      },
      "outputs": [
        {
          "output_type": "stream",
          "name": "stdout",
          "text": [
            "type using comma-seperator :  1, 5, 7, 23 \n",
            "1\n",
            "5\n",
            "7\n",
            "List: ['1', '5', '7', '23']\n",
            "Tuple: ('1', '5', '7', '23')\n"
          ]
        }
      ],
      "source": [
        "#taking a user input\n",
        "text=input(\"type using comma-seperator : \")\n",
        "#converting it to list and tuple\n",
        "create_list_tuple(text)"
      ]
    },
    {
      "cell_type": "markdown",
      "id": "131063e0",
      "metadata": {
        "id": "131063e0"
      },
      "source": [
        "# Problem 04: Write a Python program to calculate the number of days between two dates. Sample dates"
      ]
    },
    {
      "cell_type": "code",
      "execution_count": 9,
      "id": "7221d823",
      "metadata": {
        "colab": {
          "base_uri": "https://localhost:8080/"
        },
        "id": "7221d823",
        "outputId": "f8a5e394-a5ce-4b5a-cd4d-1ba2c7f410fe"
      },
      "outputs": [
        {
          "output_type": "stream",
          "name": "stdout",
          "text": [
            "9 days\n"
          ]
        }
      ],
      "source": [
        "#Write a Python program to calculate the number of days between two dates. \n",
        "import datetime as dt\n",
        "\n",
        "# define the two dates as tuples\n",
        "date1=(2014,7,2)\n",
        "date2 = (2014, 7, 11)\n",
        "\n",
        "# convert the tuples to datetime objects\n",
        "date1_obj=dt.date(*date1)\n",
        "date2_obj=dt.date(*date2)\n",
        "\n",
        "# calculate the number of days between the two dates\n",
        "delta= date2_obj-date1_obj\n",
        "\n",
        "# print the result\n",
        "print(delta.days,\"days\")"
      ]
    },
    {
      "cell_type": "markdown",
      "id": "43514927",
      "metadata": {
        "id": "43514927"
      },
      "source": [
        "# Problem 05: Write a Python program to solve (x + y) * (x + y). Test Data : x = 4, y = 3 "
      ]
    },
    {
      "cell_type": "code",
      "execution_count": 10,
      "id": "3a922e34",
      "metadata": {
        "id": "3a922e34"
      },
      "outputs": [],
      "source": [
        "#custom function for adding and square of two numbers\n",
        "def add_square(x,y):\n",
        "    result=(x+y)**2\n",
        "    print(f\"(({x}+{y})^2)={result}\")"
      ]
    },
    {
      "cell_type": "code",
      "execution_count": 11,
      "id": "2f19155b",
      "metadata": {
        "colab": {
          "base_uri": "https://localhost:8080/"
        },
        "id": "2f19155b",
        "outputId": "39cbf4cf-91c7-43ed-b744-d47bb4fcbd5f"
      },
      "outputs": [
        {
          "output_type": "stream",
          "name": "stdout",
          "text": [
            "((4+3)^2)=49\n"
          ]
        }
      ],
      "source": [
        "#checking the sample input\n",
        "add_square(4,3)"
      ]
    },
    {
      "cell_type": "markdown",
      "id": "8eba58b2",
      "metadata": {
        "id": "8eba58b2"
      },
      "source": [
        "# Problem 06: Write a Python program to compute the future value of a specified principal amount,rate of interest, and number of years. \n",
        "Test Data : amt = 10000, int = 3.5, years = 7 \n",
        "Expected Output : 12722.79 "
      ]
    },
    {
      "cell_type": "code",
      "execution_count": 12,
      "id": "1438e28a",
      "metadata": {
        "id": "1438e28a"
      },
      "outputs": [],
      "source": [
        "#custom function for future value for a specified principle ammount calculation\n",
        "def futureval(amt,interest,years):\n",
        "    p=amt\n",
        "    r=interest/100\n",
        "    n=years\n",
        "    I=p*(1+r)**n\n",
        "    return I"
      ]
    },
    {
      "cell_type": "code",
      "execution_count": 13,
      "id": "73651865",
      "metadata": {
        "colab": {
          "base_uri": "https://localhost:8080/"
        },
        "id": "73651865",
        "outputId": "0482d55e-5acd-4daf-e9eb-aa45d14465bf"
      },
      "outputs": [
        {
          "output_type": "execute_result",
          "data": {
            "text/plain": [
              "12722.792627665729"
            ]
          },
          "metadata": {},
          "execution_count": 13
        }
      ],
      "source": [
        "#checking the output\n",
        "amt =10000\n",
        "intr = 3.5 \n",
        "years = 7 \n",
        "futureval(amt,intr,years)"
      ]
    },
    {
      "cell_type": "markdown",
      "id": "2991f9f7",
      "metadata": {
        "id": "2991f9f7"
      },
      "source": [
        "# Problem 07: Write a Python program that removes duplicate elements from a given array of numberssothat each element appears only once and returns the new length of the array. \n",
        "Sample Input: [0,0,1,1,2,2,3,3,4,4,4] \n",
        "Sample Output: \n",
        "The list of unique numbers: [0,1,2,3,4] \n",
        "length of the unique list : 5 "
      ]
    },
    {
      "cell_type": "code",
      "execution_count": 14,
      "id": "bd8b7c7d",
      "metadata": {
        "id": "bd8b7c7d"
      },
      "outputs": [],
      "source": [
        "#Creating custom function for duplicate removal\n",
        "def dup_rm(list_A):\n",
        "    num=list(set(list_A))\n",
        "    new_len=len(num)\n",
        "    print(f\"The list of unique numbers: {num}\")\n",
        "    print(f\"length of the unique list : {new_len}\")\n",
        "    #return num,new_len"
      ]
    },
    {
      "cell_type": "code",
      "execution_count": 15,
      "id": "f6c431ac",
      "metadata": {
        "colab": {
          "base_uri": "https://localhost:8080/"
        },
        "id": "f6c431ac",
        "outputId": "a53ac59b-25a8-4594-9df3-86726a7c8058"
      },
      "outputs": [
        {
          "output_type": "stream",
          "name": "stdout",
          "text": [
            "[0, 0, 1, 1, 2, 2, 3, 3, 4, 4, 4]\n",
            "The list of unique numbers: [0, 1, 2, 3, 4]\n",
            "length of the unique list : 5\n"
          ]
        }
      ],
      "source": [
        "#checking the function with sample input\n",
        "A=[0,0,1,1,2,2,3,3,4,4,4]\n",
        "print(A)\n",
        "dup_rm(A)"
      ]
    }
  ],
  "metadata": {
    "kernelspec": {
      "display_name": "Python 3 (ipykernel)",
      "language": "python",
      "name": "python3"
    },
    "language_info": {
      "codemirror_mode": {
        "name": "ipython",
        "version": 3
      },
      "file_extension": ".py",
      "mimetype": "text/x-python",
      "name": "python",
      "nbconvert_exporter": "python",
      "pygments_lexer": "ipython3",
      "version": "3.9.12"
    },
    "colab": {
      "provenance": [],
      "include_colab_link": true
    }
  },
  "nbformat": 4,
  "nbformat_minor": 5
}