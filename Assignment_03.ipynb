{
  "cells": [
    {
      "cell_type": "markdown",
      "metadata": {
        "id": "view-in-github",
        "colab_type": "text"
      },
      "source": [
        "<a href=\"https://colab.research.google.com/github/SMAsaduzzaman/Python-Assignment-03/blob/main/Assignment_03.ipynb\" target=\"_parent\"><img src=\"https://colab.research.google.com/assets/colab-badge.svg\" alt=\"Open In Colab\"/></a>"
      ]
    },
    {
      "cell_type": "markdown",
      "id": "4a0723d1",
      "metadata": {
        "id": "4a0723d1"
      },
      "source": [
        "<h1 align=center style=\"color: navy;\"> <b> Title:</b> Python Assignment 03 </h1>\n",
        "<h1 align=center style=\"color: navy;\"> <b> Course Instructor:</b> Farhana Afrin Duty </h1>\n",
        "<h2 align=center style=\"color: navy;\"> <b> Name:</b> S M Asaduzzaman </h2>\n",
        "<h2 align=center style=\"color: navy;\"> <b> Roll:</b> 20229017 </h2>"
      ]
    },
    {
      "cell_type": "code",
      "source": [
        "#Mounting/connecting google drive\n",
        "from google.colab import drive\n",
        "drive.mount('/content/drive')"
      ],
      "metadata": {
        "colab": {
          "base_uri": "https://localhost:8080/"
        },
        "id": "eakWPlGxTm5L",
        "outputId": "68d3c4ea-4cb6-46a7-9a9a-b7d8de7936dd"
      },
      "id": "eakWPlGxTm5L",
      "execution_count": 6,
      "outputs": [
        {
          "output_type": "stream",
          "name": "stdout",
          "text": [
            "Mounted at /content/drive\n"
          ]
        }
      ]
    },
    {
      "cell_type": "code",
      "execution_count": 85,
      "id": "a3b0407c",
      "metadata": {
        "id": "a3b0407c"
      },
      "outputs": [],
      "source": [
        "#importing the impartant library\n",
        "\n",
        "import pandas as pd \n",
        "import numpy as np\n",
        "import matplotlib.pyplot as plt\n",
        "import seaborn as sns"
      ]
    },
    {
      "cell_type": "markdown",
      "id": "61ed2264",
      "metadata": {
        "id": "61ed2264"
      },
      "source": [
        "# Problem 01: Write a Python program to count the number of characters (character frequency) in a string."
      ]
    },
    {
      "cell_type": "code",
      "execution_count": null,
      "id": "b650d96c",
      "metadata": {
        "id": "b650d96c"
      },
      "outputs": [],
      "source": [
        "#importing the defaultfict library for creating a default dictionary\n",
        "from collections import defaultdict\n",
        "#creating a function for counting the charactes in a sting\n",
        "def count(data: str):\n",
        "    chars = defaultdict(int)\n",
        "    for char in data:\n",
        "        chars[char]+=1\n",
        "    #sorting the dictionary Descending wise for item\n",
        "    chars=dict(sorted(chars.items(),key=lambda item: item[1],reverse=True))  \n",
        "    return chars"
      ]
    },
    {
      "cell_type": "code",
      "execution_count": null,
      "id": "8565cad3",
      "metadata": {
        "colab": {
          "base_uri": "https://localhost:8080/"
        },
        "id": "8565cad3",
        "outputId": "ee54207b-449c-4cc9-8393-9258035571c3"
      },
      "outputs": [
        {
          "output_type": "stream",
          "name": "stdout",
          "text": [
            "{'o': 3, 'g': 2, 'l': 1, 'e': 1, '.': 1, 'c': 1, 'm': 1}\n"
          ]
        }
      ],
      "source": [
        "#checking the sample input \n",
        "chars=count('google.com')\n",
        "print(chars)"
      ]
    },
    {
      "cell_type": "markdown",
      "id": "2ea29bf1",
      "metadata": {
        "id": "2ea29bf1"
      },
      "source": [
        "# Problem02: Write a Python program to check if a given key already exists in a dictionary."
      ]
    },
    {
      "cell_type": "code",
      "execution_count": null,
      "id": "171a498e",
      "metadata": {
        "id": "171a498e"
      },
      "outputs": [],
      "source": [
        "#given dictionary\n",
        "given_dict={'o': 3, 'g': 2, 'l': 1, 'e': 1, '.': 1, 'c': 1, 'm': 1}\n",
        "#custom function for checking dictionary\n",
        "def check_key():\n",
        "    key=input(\"Type your Key: \")\n",
        "    if key in given_dict:\n",
        "        print(\"Your typed key is existed in the dictionary\")\n",
        "    else:\n",
        "        print(\"Your typed key is not existed in the dictionary\")"
      ]
    },
    {
      "cell_type": "code",
      "execution_count": null,
      "id": "560e109a",
      "metadata": {
        "colab": {
          "base_uri": "https://localhost:8080/"
        },
        "id": "560e109a",
        "outputId": "1b88b0db-828e-4a5a-e481-66a176dcac15"
      },
      "outputs": [
        {
          "output_type": "stream",
          "name": "stdout",
          "text": [
            "Type your Key: e\n",
            "Your typed key is existed in the dictionary\n"
          ]
        }
      ],
      "source": [
        "#taking user input as 'e'\n",
        "check_key()"
      ]
    },
    {
      "cell_type": "code",
      "execution_count": null,
      "id": "222e7b8f",
      "metadata": {
        "colab": {
          "base_uri": "https://localhost:8080/"
        },
        "id": "222e7b8f",
        "outputId": "73f7bc8f-efaa-4c52-af9c-c599ba2229f9"
      },
      "outputs": [
        {
          "output_type": "stream",
          "name": "stdout",
          "text": [
            "Type your Key: d\n",
            "Your typed key is not existed in the dictionary\n"
          ]
        }
      ],
      "source": [
        "#taking user input as 'd'\n",
        "check_key()"
      ]
    },
    {
      "cell_type": "markdown",
      "id": "5d889ef8",
      "metadata": {
        "id": "5d889ef8"
      },
      "source": [
        "# Problem 03: Write a Python program that accepts a sequence of comma-separated numbers fromtheuser and generates a list and a tuple of those numbers. "
      ]
    },
    {
      "cell_type": "code",
      "execution_count": null,
      "id": "da67440d",
      "metadata": {
        "id": "da67440d"
      },
      "outputs": [],
      "source": [
        "#Custom function for tuple create from a sting\n",
        "def create_list_tuple(text):\n",
        "    separators = ','\n",
        "    list_A = []\n",
        "    tuple_A = ()\n",
        "    num_str = ''\n",
        "    for i in text:\n",
        "        if i != separators:\n",
        "            num_str += i\n",
        "        else:\n",
        "            num=num_str.strip()\n",
        "            print(num)\n",
        "            list_A.append(num)\n",
        "            tuple_A += (num,)\n",
        "            num_str = ''\n",
        "    if num_str:\n",
        "        num=num_str.strip()\n",
        "        list_A.append(num)\n",
        "        tuple_A += (num,)\n",
        "    print(f\"List: {list_A}\\nTuple: {tuple_A}\")"
      ]
    },
    {
      "cell_type": "code",
      "execution_count": null,
      "id": "eaa688d3",
      "metadata": {
        "colab": {
          "base_uri": "https://localhost:8080/"
        },
        "id": "eaa688d3",
        "outputId": "e84f0e7d-4f42-4fa5-cde7-58fd52f8da2e"
      },
      "outputs": [
        {
          "output_type": "stream",
          "name": "stdout",
          "text": [
            "type using comma-seperator :  1, 5, 7, 23 \n",
            "1\n",
            "5\n",
            "7\n",
            "List: ['1', '5', '7', '23']\n",
            "Tuple: ('1', '5', '7', '23')\n"
          ]
        }
      ],
      "source": [
        "#taking a user input\n",
        "text=input(\"type using comma-seperator : \")\n",
        "#converting it to list and tuple\n",
        "create_list_tuple(text)"
      ]
    },
    {
      "cell_type": "markdown",
      "id": "131063e0",
      "metadata": {
        "id": "131063e0"
      },
      "source": [
        "# Problem 04: Write a Python program to calculate the number of days between two dates. Sample dates"
      ]
    },
    {
      "cell_type": "code",
      "execution_count": null,
      "id": "7221d823",
      "metadata": {
        "colab": {
          "base_uri": "https://localhost:8080/"
        },
        "id": "7221d823",
        "outputId": "f8a5e394-a5ce-4b5a-cd4d-1ba2c7f410fe"
      },
      "outputs": [
        {
          "output_type": "stream",
          "name": "stdout",
          "text": [
            "9 days\n"
          ]
        }
      ],
      "source": [
        "#Write a Python program to calculate the number of days between two dates. \n",
        "import datetime as dt\n",
        "\n",
        "# define the two dates as tuples\n",
        "date1=(2014,7,2)\n",
        "date2 = (2014, 7, 11)\n",
        "\n",
        "# convert the tuples to datetime objects\n",
        "date1_obj=dt.date(*date1)\n",
        "date2_obj=dt.date(*date2)\n",
        "\n",
        "# calculate the number of days between the two dates\n",
        "delta= date2_obj-date1_obj\n",
        "\n",
        "# print the result\n",
        "print(delta.days,\"days\")"
      ]
    },
    {
      "cell_type": "markdown",
      "id": "43514927",
      "metadata": {
        "id": "43514927"
      },
      "source": [
        "# Problem 05: Write a Python program to solve (x + y) * (x + y). Test Data : x = 4, y = 3 "
      ]
    },
    {
      "cell_type": "code",
      "execution_count": null,
      "id": "3a922e34",
      "metadata": {
        "id": "3a922e34"
      },
      "outputs": [],
      "source": [
        "#custom function for adding and square of two numbers\n",
        "def add_square(x,y):\n",
        "    result=(x+y)**2\n",
        "    print(f\"(({x}+{y})^2)={result}\")"
      ]
    },
    {
      "cell_type": "code",
      "execution_count": null,
      "id": "2f19155b",
      "metadata": {
        "colab": {
          "base_uri": "https://localhost:8080/"
        },
        "id": "2f19155b",
        "outputId": "39cbf4cf-91c7-43ed-b744-d47bb4fcbd5f"
      },
      "outputs": [
        {
          "output_type": "stream",
          "name": "stdout",
          "text": [
            "((4+3)^2)=49\n"
          ]
        }
      ],
      "source": [
        "#checking the sample input\n",
        "add_square(4,3)"
      ]
    },
    {
      "cell_type": "markdown",
      "id": "8eba58b2",
      "metadata": {
        "id": "8eba58b2"
      },
      "source": [
        "# Problem 06: Write a Python program to compute the future value of a specified principal amount,rate of interest, and number of years. \n",
        "Test Data : amt = 10000, int = 3.5, years = 7 \n",
        "Expected Output : 12722.79 "
      ]
    },
    {
      "cell_type": "code",
      "execution_count": null,
      "id": "1438e28a",
      "metadata": {
        "id": "1438e28a"
      },
      "outputs": [],
      "source": [
        "#custom function for future value for a specified principle ammount calculation\n",
        "def futureval(amt,interest,years):\n",
        "    p=amt\n",
        "    r=interest/100\n",
        "    n=years\n",
        "    I=p*(1+r)**n\n",
        "    return I"
      ]
    },
    {
      "cell_type": "code",
      "execution_count": null,
      "id": "73651865",
      "metadata": {
        "colab": {
          "base_uri": "https://localhost:8080/"
        },
        "id": "73651865",
        "outputId": "0482d55e-5acd-4daf-e9eb-aa45d14465bf"
      },
      "outputs": [
        {
          "output_type": "execute_result",
          "data": {
            "text/plain": [
              "12722.792627665729"
            ]
          },
          "metadata": {},
          "execution_count": 13
        }
      ],
      "source": [
        "#checking the output\n",
        "amt =10000\n",
        "intr = 3.5 \n",
        "years = 7 \n",
        "futureval(amt,intr,years)"
      ]
    },
    {
      "cell_type": "markdown",
      "id": "2991f9f7",
      "metadata": {
        "id": "2991f9f7"
      },
      "source": [
        "# Problem 07: Write a Python program that removes duplicate elements from a given array of numberssothat each element appears only once and returns the new length of the array. \n",
        "Sample Input: [0,0,1,1,2,2,3,3,4,4,4] \n",
        "Sample Output: \n",
        "The list of unique numbers: [0,1,2,3,4] \n",
        "length of the unique list : 5 "
      ]
    },
    {
      "cell_type": "code",
      "execution_count": null,
      "id": "bd8b7c7d",
      "metadata": {
        "id": "bd8b7c7d"
      },
      "outputs": [],
      "source": [
        "#Creating custom function for duplicate removal\n",
        "def dup_rm(list_A):\n",
        "    num=list(set(list_A))\n",
        "    new_len=len(num)\n",
        "    print(f\"The list of unique numbers: {num}\")\n",
        "    print(f\"length of the unique list : {new_len}\")\n",
        "    #return num,new_len"
      ]
    },
    {
      "cell_type": "code",
      "execution_count": null,
      "id": "f6c431ac",
      "metadata": {
        "colab": {
          "base_uri": "https://localhost:8080/"
        },
        "id": "f6c431ac",
        "outputId": "a53ac59b-25a8-4594-9df3-86726a7c8058"
      },
      "outputs": [
        {
          "output_type": "stream",
          "name": "stdout",
          "text": [
            "[0, 0, 1, 1, 2, 2, 3, 3, 4, 4, 4]\n",
            "The list of unique numbers: [0, 1, 2, 3, 4]\n",
            "length of the unique list : 5\n"
          ]
        }
      ],
      "source": [
        "#checking the function with sample input\n",
        "A=[0,0,1,1,2,2,3,3,4,4,4]\n",
        "print(A)\n",
        "dup_rm(A)"
      ]
    },
    {
      "cell_type": "markdown",
      "source": [
        "# Problem 08: Write a Python program to sort (ascending and descending) a dictionary by key value"
      ],
      "metadata": {
        "id": "msUnbeSrRq83"
      },
      "id": "msUnbeSrRq83"
    },
    {
      "cell_type": "code",
      "source": [
        "#custom function for sorting dictionary\n",
        "\n",
        "def dict_sort(dn):\n",
        "  # sort dictionary ascending\n",
        "  sorted_asc = dict(sorted(dn.items(), key=lambda item: item[0]))\n",
        "  print(f\"Your dictionary {dn} has been sorted ascendingly {sorted_asc}\")\n",
        "  \n",
        "  # sort dictionary descending \n",
        "  sorted_desc = dict(sorted(dn.items(), key=lambda item: item[0], reverse=True))\n",
        "  print(f\"Your dictionary {dn} has been sorted descendingly {sorted_desc}\")\n",
        "  \n",
        "  #return sorted_asc, sorted_desc\n"
      ],
      "metadata": {
        "id": "LbZZRtS2Rzi_"
      },
      "id": "LbZZRtS2Rzi_",
      "execution_count": 43,
      "outputs": []
    },
    {
      "cell_type": "code",
      "source": [
        "#checking the custom function with a sample input\n",
        "d={'o': 3, 'g': 2, 'l': 1, 'e': 1, '.': 1, 'c': 1, 'm': 1}\n",
        "dict_sort(d)"
      ],
      "metadata": {
        "colab": {
          "base_uri": "https://localhost:8080/"
        },
        "id": "D44igWztWnPB",
        "outputId": "719dcaa6-6891-480c-a9a0-a7ec69f2307a"
      },
      "id": "D44igWztWnPB",
      "execution_count": 44,
      "outputs": [
        {
          "output_type": "stream",
          "name": "stdout",
          "text": [
            "Your dictionary {'o': 3, 'g': 2, 'l': 1, 'e': 1, '.': 1, 'c': 1, 'm': 1} has been sorted ascendingly {'.': 1, 'c': 1, 'e': 1, 'g': 2, 'l': 1, 'm': 1, 'o': 3}\n",
            "Your dictionary {'o': 3, 'g': 2, 'l': 1, 'e': 1, '.': 1, 'c': 1, 'm': 1} has been sorted descendingly {'o': 3, 'm': 1, 'l': 1, 'g': 2, 'e': 1, 'c': 1, '.': 1}\n"
          ]
        }
      ]
    },
    {
      "cell_type": "code",
      "source": [
        "#checking the custom function with another sample input\n",
        "car = {\n",
        "  \"brand\": \"Ford\",\n",
        "  \"model\": \"Mustang\",\n",
        "  \"year\": 1964\n",
        "}\n",
        "dict_sort(car)"
      ],
      "metadata": {
        "colab": {
          "base_uri": "https://localhost:8080/"
        },
        "id": "aWaXsOxoWnRC",
        "outputId": "e4c84084-6b69-4482-f913-1dee1545413a"
      },
      "id": "aWaXsOxoWnRC",
      "execution_count": 45,
      "outputs": [
        {
          "output_type": "stream",
          "name": "stdout",
          "text": [
            "Your dictionary {'brand': 'Ford', 'model': 'Mustang', 'year': 1964} has been sorted ascendingly {'brand': 'Ford', 'model': 'Mustang', 'year': 1964}\n",
            "Your dictionary {'brand': 'Ford', 'model': 'Mustang', 'year': 1964} has been sorted descendingly {'year': 1964, 'model': 'Mustang', 'brand': 'Ford'}\n"
          ]
        }
      ]
    },
    {
      "cell_type": "markdown",
      "source": [
        "# problem 09: Write a Python program to add key to a dictionary. Go to the editor \n",
        "Sample Dictionary : {0: 10, 1: 20} \n",
        "Expected Result : {0: 10, 1: 20, 2: 30} \n"
      ],
      "metadata": {
        "id": "tPaH1pdPb0cg"
      },
      "id": "tPaH1pdPb0cg"
    },
    {
      "cell_type": "code",
      "source": [
        "#custom function for adding new key to a existing sample\n",
        "def add_dict(d:dict, d1:dict):\n",
        "  print(f\"Sample Dictionary: {d}\")\n",
        "  print(f\"You new key is: {d1}\")\n",
        "  d.update(d1)\n",
        "  print(f\"Your updated dictionary: {d}\")"
      ],
      "metadata": {
        "id": "FOipJ1vuXNJP"
      },
      "id": "FOipJ1vuXNJP",
      "execution_count": 81,
      "outputs": []
    },
    {
      "cell_type": "code",
      "source": [
        "#creatin a sample and a new key to check whethere custom add_dict function is working properly\n",
        "sample={0: 10, 1: 20}\n",
        "d1={2: 30}\n",
        "add_dict(sample,d1)"
      ],
      "metadata": {
        "colab": {
          "base_uri": "https://localhost:8080/"
        },
        "id": "ykR6Vy6jegRd",
        "outputId": "022de02a-8bdf-401a-d7fb-b2e8ec13f28e"
      },
      "id": "ykR6Vy6jegRd",
      "execution_count": 84,
      "outputs": [
        {
          "output_type": "stream",
          "name": "stdout",
          "text": [
            "Sample Dictionary: {0: 10, 1: 20}\n",
            "You new key is: {2: 30}\n",
            "Your updated dictionary: {0: 10, 1: 20, 2: 30}\n"
          ]
        }
      ]
    },
    {
      "cell_type": "markdown",
      "source": [
        "# Problem 10: Write a Pandas program to create and display a DataFrame from a specified dictionarydatawhich has the index labels. \n",
        "Sample Python dictionary data and list labels: \n",
        "exam_data = {'name': ['Arif', 'Asir', 'Arik', 'Anis', 'Anil', 'Ashish', 'Anahi', 'Alia', 'Alvin', 'Asim'],'score': [12.5, 9, 16.5, np.nan, 9, 20, 14.5, np.nan, 8, 19], \n",
        "'attempts': [1, 3, 2, 3, 2, 3, 1, 1, 2, 1], \n",
        "'qualify': ['yes', 'no', 'yes', 'no', 'no', 'yes', 'yes', 'no', 'no', 'yes']}\n",
        "labels = ['a', 'b', 'c', 'd', 'e', 'f', 'g', 'h', 'i', 'j'] \n"
      ],
      "metadata": {
        "id": "t5qovMV0jpUS"
      },
      "id": "t5qovMV0jpUS"
    },
    {
      "cell_type": "code",
      "source": [
        "import pandas as pd\n",
        "def dict_to_df(data,labels):\n",
        "  data=pd.DataFrame(data,index=labels)\n",
        "  return data"
      ],
      "metadata": {
        "id": "nzEAbMN3i5y4"
      },
      "id": "nzEAbMN3i5y4",
      "execution_count": 89,
      "outputs": []
    },
    {
      "cell_type": "code",
      "source": [
        "exam_data = {'name': ['Arif', 'Asir', 'Arik', 'Anis', 'Anil', 'Ashish', 'Anahi', 'Alia', 'Alvin', 'Asim'],'score': [12.5, 9, 16.5, np.nan, 9, 20, 14.5, np.nan, 8, 19], 'attempts': [1, 3, 2, 3, 2, 3, 1, 1, 2, 1], 'qualify': ['yes', 'no', 'yes', 'no', 'no', 'yes', 'yes', 'no', 'no', 'yes']}\n",
        "labels = ['a', 'b', 'c', 'd', 'e', 'f', 'g', 'h', 'i', 'j']\n",
        "dict_to_df(exam_data,labels)"
      ],
      "metadata": {
        "colab": {
          "base_uri": "https://localhost:8080/",
          "height": 362
        },
        "id": "Xr50PGvRkir2",
        "outputId": "d1babadd-4a13-4648-928b-14f5daa8c91f"
      },
      "id": "Xr50PGvRkir2",
      "execution_count": 91,
      "outputs": [
        {
          "output_type": "execute_result",
          "data": {
            "text/plain": [
              "     name  score  attempts qualify\n",
              "a    Arif   12.5         1     yes\n",
              "b    Asir    9.0         3      no\n",
              "c    Arik   16.5         2     yes\n",
              "d    Anis    NaN         3      no\n",
              "e    Anil    9.0         2      no\n",
              "f  Ashish   20.0         3     yes\n",
              "g   Anahi   14.5         1     yes\n",
              "h    Alia    NaN         1      no\n",
              "i   Alvin    8.0         2      no\n",
              "j    Asim   19.0         1     yes"
            ],
            "text/html": [
              "\n",
              "  <div id=\"df-faefad90-7ed5-4b84-9d56-ac6b291d2c22\">\n",
              "    <div class=\"colab-df-container\">\n",
              "      <div>\n",
              "<style scoped>\n",
              "    .dataframe tbody tr th:only-of-type {\n",
              "        vertical-align: middle;\n",
              "    }\n",
              "\n",
              "    .dataframe tbody tr th {\n",
              "        vertical-align: top;\n",
              "    }\n",
              "\n",
              "    .dataframe thead th {\n",
              "        text-align: right;\n",
              "    }\n",
              "</style>\n",
              "<table border=\"1\" class=\"dataframe\">\n",
              "  <thead>\n",
              "    <tr style=\"text-align: right;\">\n",
              "      <th></th>\n",
              "      <th>name</th>\n",
              "      <th>score</th>\n",
              "      <th>attempts</th>\n",
              "      <th>qualify</th>\n",
              "    </tr>\n",
              "  </thead>\n",
              "  <tbody>\n",
              "    <tr>\n",
              "      <th>a</th>\n",
              "      <td>Arif</td>\n",
              "      <td>12.5</td>\n",
              "      <td>1</td>\n",
              "      <td>yes</td>\n",
              "    </tr>\n",
              "    <tr>\n",
              "      <th>b</th>\n",
              "      <td>Asir</td>\n",
              "      <td>9.0</td>\n",
              "      <td>3</td>\n",
              "      <td>no</td>\n",
              "    </tr>\n",
              "    <tr>\n",
              "      <th>c</th>\n",
              "      <td>Arik</td>\n",
              "      <td>16.5</td>\n",
              "      <td>2</td>\n",
              "      <td>yes</td>\n",
              "    </tr>\n",
              "    <tr>\n",
              "      <th>d</th>\n",
              "      <td>Anis</td>\n",
              "      <td>NaN</td>\n",
              "      <td>3</td>\n",
              "      <td>no</td>\n",
              "    </tr>\n",
              "    <tr>\n",
              "      <th>e</th>\n",
              "      <td>Anil</td>\n",
              "      <td>9.0</td>\n",
              "      <td>2</td>\n",
              "      <td>no</td>\n",
              "    </tr>\n",
              "    <tr>\n",
              "      <th>f</th>\n",
              "      <td>Ashish</td>\n",
              "      <td>20.0</td>\n",
              "      <td>3</td>\n",
              "      <td>yes</td>\n",
              "    </tr>\n",
              "    <tr>\n",
              "      <th>g</th>\n",
              "      <td>Anahi</td>\n",
              "      <td>14.5</td>\n",
              "      <td>1</td>\n",
              "      <td>yes</td>\n",
              "    </tr>\n",
              "    <tr>\n",
              "      <th>h</th>\n",
              "      <td>Alia</td>\n",
              "      <td>NaN</td>\n",
              "      <td>1</td>\n",
              "      <td>no</td>\n",
              "    </tr>\n",
              "    <tr>\n",
              "      <th>i</th>\n",
              "      <td>Alvin</td>\n",
              "      <td>8.0</td>\n",
              "      <td>2</td>\n",
              "      <td>no</td>\n",
              "    </tr>\n",
              "    <tr>\n",
              "      <th>j</th>\n",
              "      <td>Asim</td>\n",
              "      <td>19.0</td>\n",
              "      <td>1</td>\n",
              "      <td>yes</td>\n",
              "    </tr>\n",
              "  </tbody>\n",
              "</table>\n",
              "</div>\n",
              "      <button class=\"colab-df-convert\" onclick=\"convertToInteractive('df-faefad90-7ed5-4b84-9d56-ac6b291d2c22')\"\n",
              "              title=\"Convert this dataframe to an interactive table.\"\n",
              "              style=\"display:none;\">\n",
              "        \n",
              "  <svg xmlns=\"http://www.w3.org/2000/svg\" height=\"24px\"viewBox=\"0 0 24 24\"\n",
              "       width=\"24px\">\n",
              "    <path d=\"M0 0h24v24H0V0z\" fill=\"none\"/>\n",
              "    <path d=\"M18.56 5.44l.94 2.06.94-2.06 2.06-.94-2.06-.94-.94-2.06-.94 2.06-2.06.94zm-11 1L8.5 8.5l.94-2.06 2.06-.94-2.06-.94L8.5 2.5l-.94 2.06-2.06.94zm10 10l.94 2.06.94-2.06 2.06-.94-2.06-.94-.94-2.06-.94 2.06-2.06.94z\"/><path d=\"M17.41 7.96l-1.37-1.37c-.4-.4-.92-.59-1.43-.59-.52 0-1.04.2-1.43.59L10.3 9.45l-7.72 7.72c-.78.78-.78 2.05 0 2.83L4 21.41c.39.39.9.59 1.41.59.51 0 1.02-.2 1.41-.59l7.78-7.78 2.81-2.81c.8-.78.8-2.07 0-2.86zM5.41 20L4 18.59l7.72-7.72 1.47 1.35L5.41 20z\"/>\n",
              "  </svg>\n",
              "      </button>\n",
              "      \n",
              "  <style>\n",
              "    .colab-df-container {\n",
              "      display:flex;\n",
              "      flex-wrap:wrap;\n",
              "      gap: 12px;\n",
              "    }\n",
              "\n",
              "    .colab-df-convert {\n",
              "      background-color: #E8F0FE;\n",
              "      border: none;\n",
              "      border-radius: 50%;\n",
              "      cursor: pointer;\n",
              "      display: none;\n",
              "      fill: #1967D2;\n",
              "      height: 32px;\n",
              "      padding: 0 0 0 0;\n",
              "      width: 32px;\n",
              "    }\n",
              "\n",
              "    .colab-df-convert:hover {\n",
              "      background-color: #E2EBFA;\n",
              "      box-shadow: 0px 1px 2px rgba(60, 64, 67, 0.3), 0px 1px 3px 1px rgba(60, 64, 67, 0.15);\n",
              "      fill: #174EA6;\n",
              "    }\n",
              "\n",
              "    [theme=dark] .colab-df-convert {\n",
              "      background-color: #3B4455;\n",
              "      fill: #D2E3FC;\n",
              "    }\n",
              "\n",
              "    [theme=dark] .colab-df-convert:hover {\n",
              "      background-color: #434B5C;\n",
              "      box-shadow: 0px 1px 3px 1px rgba(0, 0, 0, 0.15);\n",
              "      filter: drop-shadow(0px 1px 2px rgba(0, 0, 0, 0.3));\n",
              "      fill: #FFFFFF;\n",
              "    }\n",
              "  </style>\n",
              "\n",
              "      <script>\n",
              "        const buttonEl =\n",
              "          document.querySelector('#df-faefad90-7ed5-4b84-9d56-ac6b291d2c22 button.colab-df-convert');\n",
              "        buttonEl.style.display =\n",
              "          google.colab.kernel.accessAllowed ? 'block' : 'none';\n",
              "\n",
              "        async function convertToInteractive(key) {\n",
              "          const element = document.querySelector('#df-faefad90-7ed5-4b84-9d56-ac6b291d2c22');\n",
              "          const dataTable =\n",
              "            await google.colab.kernel.invokeFunction('convertToInteractive',\n",
              "                                                     [key], {});\n",
              "          if (!dataTable) return;\n",
              "\n",
              "          const docLinkHtml = 'Like what you see? Visit the ' +\n",
              "            '<a target=\"_blank\" href=https://colab.research.google.com/notebooks/data_table.ipynb>data table notebook</a>'\n",
              "            + ' to learn more about interactive tables.';\n",
              "          element.innerHTML = '';\n",
              "          dataTable['output_type'] = 'display_data';\n",
              "          await google.colab.output.renderOutput(dataTable, element);\n",
              "          const docLink = document.createElement('div');\n",
              "          docLink.innerHTML = docLinkHtml;\n",
              "          element.appendChild(docLink);\n",
              "        }\n",
              "      </script>\n",
              "    </div>\n",
              "  </div>\n",
              "  "
            ]
          },
          "metadata": {},
          "execution_count": 91
        }
      ]
    }
  ],
  "metadata": {
    "kernelspec": {
      "display_name": "Python 3 (ipykernel)",
      "language": "python",
      "name": "python3"
    },
    "language_info": {
      "codemirror_mode": {
        "name": "ipython",
        "version": 3
      },
      "file_extension": ".py",
      "mimetype": "text/x-python",
      "name": "python",
      "nbconvert_exporter": "python",
      "pygments_lexer": "ipython3",
      "version": "3.9.12"
    },
    "colab": {
      "provenance": [],
      "include_colab_link": true
    }
  },
  "nbformat": 4,
  "nbformat_minor": 5
}